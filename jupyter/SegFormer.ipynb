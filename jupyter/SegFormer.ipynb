{
 "cells": [
  {
   "cell_type": "code",
   "execution_count": 1,
   "metadata": {},
   "outputs": [],
   "source": [
    "import os\n",
    "import torch\n",
    "import numpy as np\n",
    "import pandas as pd\n",
    "from torch.utils.data import Dataset, DataLoader\n",
    "from PIL import Image\n",
    "from transformers import SegformerForSemanticSegmentation, SegformerImageProcessor\n",
    "from roboflow import Roboflow"
   ]
  },
  {
   "cell_type": "code",
   "execution_count": 2,
   "metadata": {},
   "outputs": [
    {
     "name": "stdout",
     "output_type": "stream",
     "text": [
      "loading Roboflow workspace...\n",
      "loading Roboflow project...\n"
     ]
    }
   ],
   "source": [
    "rf = Roboflow(api_key=\"4QwtaiJqX1nqiPdAyXcV\")\n",
    "dataset = rf.workspace(\"dron-hkv6n\").project(\"clasificacion-de-suelo-2\").version(15).download(\"png-mask-semantic\", location=\"content/my-datasets\")"
   ]
  },
  {
   "cell_type": "code",
   "execution_count": 3,
   "metadata": {},
   "outputs": [],
   "source": [
    "data_path = \"content/my-datasets\"\n",
    "train_path = os.path.join(data_path, \"train\")\n",
    "valid_path = os.path.join(data_path, \"valid\")\n",
    "test_path = os.path.join(data_path, \"test\")"
   ]
  },
  {
   "cell_type": "code",
   "execution_count": 4,
   "metadata": {},
   "outputs": [],
   "source": [
    "NUM_CLASSES = 5\n",
    "id2label = {\n",
    "    0: \"background\",\n",
    "    1: \"agua\",\n",
    "    2: \"suelo expuesto\",\n",
    "    3: \"vegetacion seca\",\n",
    "    4: \"vegetacion verde\"\n",
    "}\n",
    "label2id = {v: k for k, v in id2label.items()}"
   ]
  },
  {
   "cell_type": "code",
   "execution_count": 5,
   "metadata": {},
   "outputs": [
    {
     "name": "stderr",
     "output_type": "stream",
     "text": [
      "The following named arguments are not valid for `SegformerImageProcessor.__init__` and were ignored: 'feature_extractor_type'\n"
     ]
    }
   ],
   "source": [
    "feature_extractor = SegformerImageProcessor.from_pretrained(\"nvidia/segformer-b0-finetuned-ade-512-512\")"
   ]
  },
  {
   "cell_type": "code",
   "execution_count": 6,
   "metadata": {},
   "outputs": [],
   "source": [
    "class SegmentationDataset(Dataset):\n",
    "    def __init__(self, image_dir, feature_extractor, label_map):\n",
    "        self.image_dir = image_dir\n",
    "        self.image_files = sorted([f for f in os.listdir(image_dir) if f.endswith((\".jpg\", \".png\")) and \"_mask\" not in f])\n",
    "        self.mask_files = [img.rsplit(\".\", 1)[0] + \"_mask.png\" for img in self.image_files]\n",
    "        self.feature_extractor = feature_extractor\n",
    "        self.label_map = label_map\n",
    "\n",
    "    def __len__(self):\n",
    "        return len(self.image_files)\n",
    "\n",
    "    def __getitem__(self, idx):\n",
    "        img_path = os.path.join(self.image_dir, self.image_files[idx])\n",
    "        mask_path = os.path.join(self.image_dir, self.mask_files[idx])\n",
    "\n",
    "        image = Image.open(img_path).convert(\"RGB\")\n",
    "        mask = Image.open(mask_path)\n",
    "\n",
    "        inputs = self.feature_extractor(images=image, return_tensors=\"pt\")\n",
    "        image = inputs[\"pixel_values\"].squeeze()\n",
    "\n",
    "        mask = np.array(mask)\n",
    "        new_mask = np.full_like(mask, fill_value=255)\n",
    "        for original, mapped in self.label_map.items():\n",
    "            new_mask[mask == original] = mapped\n",
    "\n",
    "        mask = torch.tensor(new_mask, dtype=torch.long)\n",
    "\n",
    "        return image, mask\n",
    "\n",
    "label_map = {0: 0, 1: 1, 2: 2, 3: 3, 4: 4}  # mapa de remapeo para las 5 clases"
   ]
  },
  {
   "cell_type": "code",
   "execution_count": 7,
   "metadata": {},
   "outputs": [],
   "source": [
    "train_dataset = SegmentationDataset(train_path, feature_extractor, label_map)\n",
    "valid_dataset = SegmentationDataset(valid_path, feature_extractor, label_map)\n",
    "\n",
    "train_loader = DataLoader(train_dataset, batch_size=2, shuffle=True)\n",
    "valid_loader = DataLoader(valid_dataset, batch_size=2)"
   ]
  },
  {
   "cell_type": "code",
   "execution_count": 8,
   "metadata": {},
   "outputs": [
    {
     "name": "stderr",
     "output_type": "stream",
     "text": [
      "Some weights of SegformerForSemanticSegmentation were not initialized from the model checkpoint at nvidia/segformer-b0-finetuned-ade-512-512 and are newly initialized because the shapes did not match:\n",
      "- decode_head.classifier.bias: found shape torch.Size([150]) in the checkpoint and torch.Size([5]) in the model instantiated\n",
      "- decode_head.classifier.weight: found shape torch.Size([150, 256, 1, 1]) in the checkpoint and torch.Size([5, 256, 1, 1]) in the model instantiated\n",
      "You should probably TRAIN this model on a down-stream task to be able to use it for predictions and inference.\n"
     ]
    }
   ],
   "source": [
    "device = torch.device(\"cuda\" if torch.cuda.is_available() else \"cpu\")\n",
    "model = SegformerForSemanticSegmentation.from_pretrained(\n",
    "    \"nvidia/segformer-b0-finetuned-ade-512-512\",\n",
    "    num_labels=NUM_CLASSES,\n",
    "    id2label=id2label,\n",
    "    label2id=label2id,\n",
    "    ignore_mismatched_sizes=True\n",
    ").to(device)\n",
    "\n",
    "optimizer = torch.optim.Adam(model.parameters(), lr=5e-5)\n",
    "loss_fn = torch.nn.CrossEntropyLoss(ignore_index=255)"
   ]
  },
  {
   "cell_type": "code",
   "execution_count": 9,
   "metadata": {},
   "outputs": [],
   "source": [
    "class EarlyStopping:\n",
    "    def __init__(self, patience=5, delta=0.001):\n",
    "        self.patience = patience\n",
    "        self.delta = delta\n",
    "        self.best_loss = float('inf')\n",
    "        self.counter = 0\n",
    "        self.early_stop = False\n",
    "\n",
    "    def __call__(self, val_loss):\n",
    "        if val_loss < self.best_loss - self.delta:\n",
    "            self.best_loss = val_loss\n",
    "            self.counter = 0\n",
    "        else:\n",
    "            self.counter += 1\n",
    "            if self.counter >= self.patience:\n",
    "                self.early_stop = True\n"
   ]
  },
  {
   "cell_type": "code",
   "execution_count": 10,
   "metadata": {},
   "outputs": [],
   "source": [
    "def train_one_epoch():\n",
    "    model.train()\n",
    "    total_loss = 0\n",
    "    for images, masks in train_loader:\n",
    "        images, masks = images.to(device), masks.to(device)\n",
    "\n",
    "        logits = model(pixel_values=images).logits\n",
    "\n",
    "        masks_resized = torch.nn.functional.interpolate(\n",
    "            masks.unsqueeze(1).float(), size=logits.shape[2:], mode='nearest'\n",
    "        ).squeeze(1).long()\n",
    "\n",
    "        loss = loss_fn(logits, masks_resized)\n",
    "\n",
    "        optimizer.zero_grad()\n",
    "        loss.backward()\n",
    "        optimizer.step()\n",
    "\n",
    "        total_loss += loss.item()\n",
    "\n",
    "    return total_loss / len(train_loader)\n",
    "\n",
    "def val_one_epoch():\n",
    "    model.eval()\n",
    "    total_val_loss = 0\n",
    "    with torch.no_grad():\n",
    "        for images, masks in valid_loader:\n",
    "            images, masks = images.to(device), masks.to(device)\n",
    "\n",
    "            logits = model(pixel_values=images).logits\n",
    "\n",
    "            masks_resized = torch.nn.functional.interpolate(\n",
    "                masks.unsqueeze(1).float(), size=logits.shape[2:], mode='nearest'\n",
    "            ).squeeze(1).long()\n",
    "\n",
    "            loss = loss_fn(logits, masks_resized)\n",
    "            total_val_loss += loss.item()\n",
    "\n",
    "    return total_val_loss / len(valid_loader)"
   ]
  },
  {
   "cell_type": "code",
   "execution_count": 11,
   "metadata": {},
   "outputs": [
    {
     "name": "stdout",
     "output_type": "stream",
     "text": [
      "Epoch 1: Train Loss = 1.1138, Val Loss = 0.6569\n",
      "Mejor modelo guardado en la época 1 con val_loss = 0.6569\n",
      "Epoch 2: Train Loss = 0.7540, Val Loss = 0.5454\n",
      "Mejor modelo guardado en la época 2 con val_loss = 0.5454\n",
      "Epoch 3: Train Loss = 0.6618, Val Loss = 0.8179\n",
      "Epoch 4: Train Loss = 0.5515, Val Loss = 0.5492\n",
      "Epoch 5: Train Loss = 0.4922, Val Loss = 0.5535\n",
      "Epoch 6: Train Loss = 0.4329, Val Loss = 0.5391\n",
      "Mejor modelo guardado en la época 6 con val_loss = 0.5391\n",
      "Epoch 7: Train Loss = 0.4124, Val Loss = 0.6428\n",
      "Epoch 8: Train Loss = 0.4242, Val Loss = 0.4793\n",
      "Mejor modelo guardado en la época 8 con val_loss = 0.4793\n",
      "Epoch 9: Train Loss = 0.3456, Val Loss = 0.4482\n",
      "Mejor modelo guardado en la época 9 con val_loss = 0.4482\n",
      "Epoch 10: Train Loss = 0.3486, Val Loss = 0.5064\n",
      "Epoch 11: Train Loss = 0.3463, Val Loss = 0.5091\n",
      "Epoch 12: Train Loss = 0.3348, Val Loss = 0.3889\n",
      "Mejor modelo guardado en la época 12 con val_loss = 0.3889\n",
      "Epoch 13: Train Loss = 0.2861, Val Loss = 0.4625\n",
      "Epoch 14: Train Loss = 0.2753, Val Loss = 0.3596\n",
      "Mejor modelo guardado en la época 14 con val_loss = 0.3596\n",
      "Epoch 15: Train Loss = 0.2789, Val Loss = 1.2026\n",
      "Epoch 16: Train Loss = 0.2858, Val Loss = 0.3829\n",
      "Epoch 17: Train Loss = 0.2449, Val Loss = 0.5588\n",
      "Epoch 18: Train Loss = 0.2600, Val Loss = 0.5866\n",
      "Epoch 19: Train Loss = 0.2171, Val Loss = 0.4747\n",
      "Early stopping activado. Fin del entrenamiento.\n"
     ]
    }
   ],
   "source": [
    "early_stopping = EarlyStopping(patience=5, delta=0.001)\n",
    "\n",
    "for epoch in range(60):\n",
    "    train_loss = train_one_epoch()\n",
    "    val_loss = val_one_epoch()\n",
    "\n",
    "    print(f\"Epoch {epoch+1}: Train Loss = {train_loss:.4f}, Val Loss = {val_loss:.4f}\")\n",
    "\n",
    "    if val_loss < early_stopping.best_loss:\n",
    "        torch.save(model, \"../best_models/SEGFORMER.pth\")\n",
    "        print(f\"Mejor modelo guardado en la época {epoch+1} con val_loss = {val_loss:.4f}\")\n",
    "\n",
    "    early_stopping(val_loss)\n",
    "    if early_stopping.early_stop:\n",
    "        print(\"Early stopping activado. Fin del entrenamiento.\")\n",
    "        break"
   ]
  },
  {
   "cell_type": "code",
   "execution_count": 12,
   "metadata": {},
   "outputs": [],
   "source": [
    "import requests\n",
    "\n",
    "# Reemplaza con tu token y chat ID\n",
    "TOKEN = \"7582937970:AAEjX_QwxmfjTaFEtJB8ooS4DJ9r782xts8\"\n",
    "CHAT_ID = \"7127859860\"\n",
    "MENSAJE = \"TERMINO DE ENTRENAR\"\n",
    "\n",
    "# URL de la API de Telegram\n",
    "URL = f\"https://api.telegram.org/bot{TOKEN}/sendMessage\"\n",
    "\n",
    "# Parámetros del mensaje\n",
    "data = {\n",
    "    \"chat_id\": CHAT_ID,\n",
    "    \"text\": MENSAJE\n",
    "}\n",
    "\n",
    "# Enviar el mensaje\n",
    "respuesta = requests.post(URL, json=data)"
   ]
  },
  {
   "cell_type": "code",
   "execution_count": 13,
   "metadata": {},
   "outputs": [],
   "source": [
    "# Guardar todo el modelo\n",
    "# torch.save(model, \"../best_models/SEGFORMER.pth\")"
   ]
  },
  {
   "cell_type": "code",
   "execution_count": null,
   "metadata": {},
   "outputs": [],
   "source": []
  }
 ],
 "metadata": {
  "colab": {
   "provenance": []
  },
  "kernelspec": {
   "display_name": "Python 3",
   "language": "python",
   "name": "python3"
  },
  "language_info": {
   "codemirror_mode": {
    "name": "ipython",
    "version": 3
   },
   "file_extension": ".py",
   "mimetype": "text/x-python",
   "name": "python",
   "nbconvert_exporter": "python",
   "pygments_lexer": "ipython3",
   "version": "3.13.2"
  }
 },
 "nbformat": 4,
 "nbformat_minor": 4
}
