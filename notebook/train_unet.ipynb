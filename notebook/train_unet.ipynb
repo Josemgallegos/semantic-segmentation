{
 "cells": [
  {
   "cell_type": "code",
   "execution_count": null,
   "metadata": {},
   "outputs": [],
   "source": [
    "# %pip install torch torchvision numpy opencv-python albumentations matplotlib"
   ]
  },
  {
   "cell_type": "code",
   "execution_count": 9,
   "metadata": {},
   "outputs": [],
   "source": [
    "import torch\n",
    "import os\n",
    "import numpy as np\n",
    "import cv2\n",
    "import matplotlib.pyplot as plt\n",
    "from torch.utils.data import Dataset, DataLoader\n",
    "import torchvision.transforms as transforms\n",
    "from PIL import Image"
   ]
  },
  {
   "cell_type": "code",
   "execution_count": 10,
   "metadata": {},
   "outputs": [],
   "source": [
    "CLASS_COLORS = {\n",
    "    (237, 34, 236): 1,  # Advertisement\n",
    "    (201, 158, 74): 2,  # Field\n",
    "    (96, 32, 192): 3,   # Football\n",
    "    (89, 134, 179): 4,  # Goal Bar\n",
    "    (153, 223, 219): 5, # Goalkeeper 1\n",
    "    (255, 106, 77): 6,  # Goalkeeper 2\n",
    "    (22, 100, 252): 7,  # Referee\n",
    "    (143, 182, 45): 8,  # Spectators\n",
    "    (38, 198, 129): 9,  # Team 1\n",
    "    (27, 154, 218): 10, # Team 2\n",
    "    (0, 0, 0): 0        # Background\n",
    "}"
   ]
  },
  {
   "cell_type": "code",
   "execution_count": 11,
   "metadata": {},
   "outputs": [],
   "source": [
    "class SegmentationDataset(Dataset):\n",
    "    def __init__(self, image_dir, mask_dir, tolerance=10):\n",
    "        self.image_dir = image_dir\n",
    "        self.mask_dir = mask_dir\n",
    "        self.images = sorted(os.listdir(image_dir))\n",
    "        self.tolerance = tolerance\n",
    "\n",
    "        self.transform_image = transforms.Compose([\n",
    "            transforms.ToTensor(),  # Convierte PIL Image a Tensor\n",
    "        ])\n",
    "\n",
    "    def __len__(self):\n",
    "        return len(self.images)\n",
    "\n",
    "    def _mask_to_class(mask, class_colors, tolerance=30):\n",
    "        \"\"\"\n",
    "        Convierte una máscara RGB en una matriz de etiquetas de clase, con tolerancia en la comparación de colores.\n",
    "        \n",
    "        Args:\n",
    "            mask: Imagen de la máscara en formato numpy array (H, W, 3).\n",
    "            class_colors: Diccionario de colores {(R,G,B): clase_id}.\n",
    "            tolerance: Rango de tolerancia en la comparación de colores.\n",
    "        \n",
    "        Returns:\n",
    "            class_mask: Matriz de clases con dimensiones (H, W).\n",
    "        \"\"\"\n",
    "        mask = np.array(mask, dtype=np.uint8)  # Asegurar que la máscara es uint8\n",
    "        class_mask = np.zeros(mask.shape[:2], dtype=np.uint8)  # Crear matriz de etiquetas (solo H, W)\n",
    "\n",
    "        unique_colors = np.unique(mask.reshape(-1, 3), axis=0)\n",
    "        print(f\"📌 Valores únicos en la máscara antes de conversión: {unique_colors}\")\n",
    "\n",
    "        for rgb_value, class_id in class_colors.items():\n",
    "            # Crear un rango de tolerancia para cada color\n",
    "            lower_bound = np.clip(np.array(rgb_value) - tolerance, 0, 255)\n",
    "            upper_bound = np.clip(np.array(rgb_value) + tolerance, 0, 255)\n",
    "\n",
    "            matches = np.all((mask >= lower_bound) & (mask <= upper_bound), axis=-1)\n",
    "            class_mask[matches] = class_id  # Asignar la clase correspondiente\n",
    "\n",
    "        print(f\"📌 Valores únicos en la máscara después de conversión: {np.unique(class_mask)}\")\n",
    "\n",
    "        return class_mask\n",
    "\n",
    "    def __getitem__(self, idx):\n",
    "        img_path = os.path.join(self.image_dir, self.images[idx])\n",
    "        mask_path = os.path.join(self.mask_dir, self.images[idx].replace('.jpg', '.png'))\n",
    "\n",
    "        # 📌 Leer la imagen y la máscara en RGB\n",
    "        image = Image.open(img_path).convert(\"RGB\")  \n",
    "        mask = Image.open(mask_path).convert(\"RGB\")  \n",
    "\n",
    "        # 📌 Convertir la máscara a clases usando self._mask_to_class\n",
    "        mask = self._mask_to_class(mask, CLASS_COLORS, tolerance=self.tolerance)  # ✅ SOLUCIÓN\n",
    "\n",
    "        # Convertir a tensores de PyTorch\n",
    "        image = self.transform_image(image)\n",
    "        mask = torch.tensor(mask, dtype=torch.long)\n",
    "\n",
    "        return image, mask"
   ]
  },
  {
   "cell_type": "code",
   "execution_count": null,
   "metadata": {},
   "outputs": [],
   "source": [
    "image_files = sorted(os.listdir(\"../dataset/train/images/\"))\n",
    "mask_files = sorted(os.listdir(\"../dataset/train/masks/\"))\n",
    "\n",
    "for img, mask in zip(image_files, mask_files):\n",
    "    print(f\"Imagen: {img}  -->  Máscara: {mask}\")"
   ]
  },
  {
   "cell_type": "code",
   "execution_count": 12,
   "metadata": {},
   "outputs": [
    {
     "ename": "TypeError",
     "evalue": "SegmentationDataset._mask_to_class() got multiple values for argument 'tolerance'",
     "output_type": "error",
     "traceback": [
      "\u001b[0;31m---------------------------------------------------------------------------\u001b[0m",
      "\u001b[0;31mTypeError\u001b[0m                                 Traceback (most recent call last)",
      "Cell \u001b[0;32mIn[12], line 8\u001b[0m\n\u001b[1;32m      5\u001b[0m train_loader \u001b[38;5;241m=\u001b[39m DataLoader(train_dataset, batch_size\u001b[38;5;241m=\u001b[39m\u001b[38;5;241m2\u001b[39m, shuffle\u001b[38;5;241m=\u001b[39m\u001b[38;5;28;01mTrue\u001b[39;00m)\n\u001b[1;32m      7\u001b[0m \u001b[38;5;66;03m# Obtener una muestra\u001b[39;00m\n\u001b[0;32m----> 8\u001b[0m sample_img, sample_mask \u001b[38;5;241m=\u001b[39m \u001b[43mtrain_dataset\u001b[49m\u001b[43m[\u001b[49m\u001b[38;5;241;43m0\u001b[39;49m\u001b[43m]\u001b[49m\n\u001b[1;32m     10\u001b[0m \u001b[38;5;66;03m# Visualizar imagen y máscara\u001b[39;00m\n\u001b[1;32m     11\u001b[0m fig, ax \u001b[38;5;241m=\u001b[39m plt\u001b[38;5;241m.\u001b[39msubplots(\u001b[38;5;241m1\u001b[39m, \u001b[38;5;241m2\u001b[39m, figsize\u001b[38;5;241m=\u001b[39m(\u001b[38;5;241m10\u001b[39m, \u001b[38;5;241m5\u001b[39m))\n",
      "Cell \u001b[0;32mIn[11], line 54\u001b[0m, in \u001b[0;36mSegmentationDataset.__getitem__\u001b[0;34m(self, idx)\u001b[0m\n\u001b[1;32m     51\u001b[0m mask \u001b[38;5;241m=\u001b[39m Image\u001b[38;5;241m.\u001b[39mopen(mask_path)\u001b[38;5;241m.\u001b[39mconvert(\u001b[38;5;124m\"\u001b[39m\u001b[38;5;124mRGB\u001b[39m\u001b[38;5;124m\"\u001b[39m)  \n\u001b[1;32m     53\u001b[0m \u001b[38;5;66;03m# 📌 Convertir la máscara a clases usando self._mask_to_class\u001b[39;00m\n\u001b[0;32m---> 54\u001b[0m mask \u001b[38;5;241m=\u001b[39m \u001b[38;5;28;43mself\u001b[39;49m\u001b[38;5;241;43m.\u001b[39;49m\u001b[43m_mask_to_class\u001b[49m\u001b[43m(\u001b[49m\u001b[43mmask\u001b[49m\u001b[43m,\u001b[49m\u001b[43m \u001b[49m\u001b[43mCLASS_COLORS\u001b[49m\u001b[43m,\u001b[49m\u001b[43m \u001b[49m\u001b[43mtolerance\u001b[49m\u001b[38;5;241;43m=\u001b[39;49m\u001b[38;5;28;43mself\u001b[39;49m\u001b[38;5;241;43m.\u001b[39;49m\u001b[43mtolerance\u001b[49m\u001b[43m)\u001b[49m  \u001b[38;5;66;03m# ✅ SOLUCIÓN\u001b[39;00m\n\u001b[1;32m     56\u001b[0m \u001b[38;5;66;03m# Convertir a tensores de PyTorch\u001b[39;00m\n\u001b[1;32m     57\u001b[0m image \u001b[38;5;241m=\u001b[39m \u001b[38;5;28mself\u001b[39m\u001b[38;5;241m.\u001b[39mtransform_image(image)\n",
      "\u001b[0;31mTypeError\u001b[0m: SegmentationDataset._mask_to_class() got multiple values for argument 'tolerance'"
     ]
    }
   ],
   "source": [
    "train_images = \"../dataset/train/images/\"\n",
    "train_masks = \"../dataset/train/masks/\"\n",
    "\n",
    "train_dataset = SegmentationDataset(train_images, train_masks)\n",
    "train_loader = DataLoader(train_dataset, batch_size=2, shuffle=True)\n",
    "\n",
    "# Obtener una muestra\n",
    "sample_img, sample_mask = train_dataset[0]\n",
    "\n",
    "# Visualizar imagen y máscara\n",
    "fig, ax = plt.subplots(1, 2, figsize=(10, 5))\n",
    "ax[0].imshow(sample_img.permute(1, 2, 0))  # Convertir de (C, H, W) a (H, W, C)\n",
    "ax[0].set_title(\"Imagen\")\n",
    "\n",
    "ax[1].imshow(sample_mask, cmap=\"jet\")  # Mostrar máscara con colormap\n",
    "ax[1].set_title(\"Máscara\")\n",
    "\n",
    "plt.show()"
   ]
  },
  {
   "cell_type": "code",
   "execution_count": null,
   "metadata": {},
   "outputs": [],
   "source": [
    "import torch.nn as nn\n",
    "\n",
    "class DoubleConv(nn.Module):\n",
    "    def __init__(self, in_channels, out_channels):\n",
    "        super(DoubleConv, self).__init__()\n",
    "        self.conv = nn.Sequential(\n",
    "            nn.Conv2d(in_channels, out_channels, kernel_size=3, padding=1),\n",
    "            nn.ReLU(inplace=True),\n",
    "            nn.Conv2d(out_channels, out_channels, kernel_size=3, padding=1),\n",
    "            nn.ReLU(inplace=True),\n",
    "        )\n",
    "\n",
    "    def forward(self, x):\n",
    "        return self.conv(x)\n",
    "\n",
    "class UNet(nn.Module):\n",
    "    def __init__(self, in_channels=3, out_channels=11):\n",
    "        super(UNet, self).__init__()\n",
    "        self.encoder = nn.Sequential(\n",
    "            DoubleConv(in_channels, 64),\n",
    "            nn.MaxPool2d(2),\n",
    "            DoubleConv(64, 128),\n",
    "            nn.MaxPool2d(2),\n",
    "        )\n",
    "        self.middle = DoubleConv(128, 256)\n",
    "        self.decoder = nn.Sequential(\n",
    "            nn.ConvTranspose2d(256, 128, kernel_size=2, stride=2),\n",
    "            DoubleConv(128, 128),\n",
    "            nn.ConvTranspose2d(128, 64, kernel_size=2, stride=2),\n",
    "            DoubleConv(64, 64),\n",
    "        )\n",
    "        self.final = nn.Conv2d(64, out_channels, kernel_size=1)\n",
    "\n",
    "    def forward(self, x):\n",
    "        x1 = self.encoder(x)\n",
    "        x2 = self.middle(x1)\n",
    "        x3 = self.decoder(x2)\n",
    "        return self.final(x3)"
   ]
  }
 ],
 "metadata": {
  "kernelspec": {
   "display_name": ".venv",
   "language": "python",
   "name": "python3"
  },
  "language_info": {
   "codemirror_mode": {
    "name": "ipython",
    "version": 3
   },
   "file_extension": ".py",
   "mimetype": "text/x-python",
   "name": "python",
   "nbconvert_exporter": "python",
   "pygments_lexer": "ipython3",
   "version": "3.13.1"
  }
 },
 "nbformat": 4,
 "nbformat_minor": 2
}
